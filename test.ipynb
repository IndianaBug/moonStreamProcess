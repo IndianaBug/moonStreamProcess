{
 "cells": [
  {
   "cell_type": "code",
   "execution_count": null,
   "metadata": {},
   "outputs": [],
   "source": [
    "# This is a test"
   ]
  },
  {
   "cell_type": "code",
   "execution_count": null,
   "metadata": {},
   "outputs": [],
   "source": [
    "# OI\n",
    "\n",
    "# binance btcusd --- 8 510 621 * 100 usd  ----- ok\n",
    "# binance btcusdt -- 78555.499 * btc  ------- ok\n",
    "# bybit btcusdt ---- 2 574 217 167.53  \n",
    "# okx btcusdt   ----  25079.96 * btc\n",
    "# okx btcusd perp ---- * 100\n",
    "\n",
    "# Books\n",
    "\n",
    "# binance btcusd perp * 100\n",
    "# binance btcusdt  * btcprice\n",
    "# bybit btcusdt * btcprice\n",
    "# okx btcusdt * btcprice\n",
    "# okx btcusd perp * 100\n",
    "\n",
    "\n",
    "# Trades\n",
    "# binance btcusd * 100\n",
    "# okx btcusdt * 100 \n",
    "# okx btcusdt * 100 \n",
    "# else * btcprice\n",
    "\n",
    "\n",
    "# Liquidations\n",
    "# binance btcusdt -- btc value\n",
    "# binance btcusd --- usd * 100\n",
    "# bybit btcusdt - btcprice\n",
    "# okx both -----  usd * 100 # Needs to be confirmed\n"
   ]
  }
 ],
 "metadata": {
  "language_info": {
   "name": "python"
  }
 },
 "nbformat": 4,
 "nbformat_minor": 2
}
