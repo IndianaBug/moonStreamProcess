{
 "cells": [
  {
   "cell_type": "code",
   "execution_count": null,
   "metadata": {},
   "outputs": [],
   "source": [
    "! git clone https://github.com/badcoder-cloud/TradeStreamEngine\n",
    "import os\n",
    "os.chdir(\"/content/TradeStreamEngine\")\n",
    "\n",
    "\n",
    "data = json.load(open(\"/content/TradeStreamEngine/examples/data/deribit_btcusd_option_OI.json\"))\n",
    "\n",
    "deribitOpOI = oiflowOption(\"deribit\", \"btcusd\", np.array([1.0, 7.0, 35.0]), deribit_lookup)\n",
    "\n",
    "deribitOpOI.input_oi(data)"
   ]
  }
 ],
 "metadata": {
  "language_info": {
   "name": "python"
  }
 },
 "nbformat": 4,
 "nbformat_minor": 2
}
