{
 "cells": [
  {
   "cell_type": "code",
   "execution_count": 1,
   "metadata": {},
   "outputs": [],
   "source": [
    "import os\n",
    "import sys\n",
    "import time\n",
    "import json\n",
    "from os.path import abspath, dirname\n",
    "import pandas as pd\n",
    "import numpy as np\n",
    "import datetime\n",
    "\n",
    "# current_dir = abspath(dirname(__file__))\n",
    "current_dir = abspath(dirname(\"\"))\n",
    "project_path = abspath(dirname(dirname(current_dir)))\n",
    "sys.path.append(project_path + \"/TradeStreamEngine/StreamEngine\")\n",
    "\n",
    "import lookups"
   ]
  },
  {
   "cell_type": "markdown",
   "metadata": {},
   "source": [
    "# Books Aggregate"
   ]
  },
  {
   "cell_type": "code",
   "execution_count": 2,
   "metadata": {},
   "outputs": [],
   "source": [
    "from synthesis import booksmerger\n",
    "from flow import booksflow"
   ]
  },
  {
   "cell_type": "code",
   "execution_count": 3,
   "metadata": {},
   "outputs": [],
   "source": [
    "data_binance_btcusdt = json.load(open(\"data/binance_btcusdt_spot_depth.json\"))\n",
    "data_binance_btcfdusd = json.load(open(\"data/binance_btcfdusd_spot_depth.json\"))\n",
    "data_okx_btcusdt = json.load(open(\"data/okx_btcusdt_spot_depth.json\"))\n",
    "data_bybit_btcusdt = json.load(open(\"data/bybit_btcusdt_spot_depth.json\"))\n",
    "data_coinbase_btcusd = json.load(open(\"data/coinbase_btcusd_spot_depth.json\"))\n",
    "\n",
    "bbt  = booksflow('binance', 'btc_usdt', 'spot', 20, lookups.binance_depth_lookup)\n",
    "bbf  = booksflow('binance', 'btc_fdusd', 'spot', 20, lookups.binance_depth_lookup)\n",
    "obt  = booksflow('okx', 'btc_usdt', 'spot', 20, lookups.okx_depth_lookup)\n",
    "bybt  = booksflow('bybit', 'btc_usdt', 'spot', 20, lookups.bybit_depth_lookup)\n",
    "cu  = booksflow('coinbase', 'btc_usd', 'spot', 20, lookups.coinbase_depth_lookup)\n",
    "\n",
    "for index, d in enumerate(data_binance_btcusdt):\n",
    "    d = json.dumps(d)\n",
    "    bbt.update_books(d)\n",
    "for index, d in enumerate(data_binance_btcfdusd):\n",
    "    d = json.dumps(d)\n",
    "    bbf.update_books(d)\n",
    "for index, d in enumerate(data_okx_btcusdt):\n",
    "    d = json.dumps(d)\n",
    "    obt.update_books(d)\n",
    "for index, d in enumerate(data_bybit_btcusdt):\n",
    "    d = json.dumps(d)\n",
    "    bybt.update_books(d)\n",
    "for index, d in enumerate(data_coinbase_btcusd):\n",
    "    d = json.dumps(d)\n",
    "    cu.update_books(d)"
   ]
  },
  {
   "cell_type": "code",
   "execution_count": 7,
   "metadata": {},
   "outputs": [],
   "source": [
    "data_binance_btcusdt_perp = json.load(open(\"data/binance_btcusdt_perpetual_depth.json\"))\n",
    "data_binance_btcusd_perp = json.load(open(\"data/binance_btcusd_perpetual_depth.json\"))\n",
    "data_okx_btcusdt_perp = json.load(open(\"data/okx_btcusdt_perpetual_depth.json\"))\n",
    "data_bybit_btcusdt_perp = json.load(open(\"data/bybit_btcusdt_perpetual_depth.json\"))\n",
    "data_okx_btcusd_perp = json.load(open(\"data/okx_btcusd_perpetual_depth.json\"))\n",
    "\n",
    "binance_1  = booksflow('binance', 'btc_usdt', 'perpetual', 20, lookups.binance_depth_lookup)\n",
    "binance_2  = booksflow('binance', 'btc_usd', 'perpetual', 20, lookups.binance_depth_lookup)\n",
    "okx_1  = booksflow('okx', 'btc_usdt', 'perpetual', 20, lookups.okx_depth_lookup)\n",
    "bybit  = booksflow('bybit', 'btc_usdt', 'perpetual', 20, lookups.bybit_depth_lookup)\n",
    "okx_2  = booksflow('okx', 'btc_usd', 'perpetual', 20, lookups.coinbase_depth_lookup)\n",
    "\n",
    "for index, d in enumerate(data_binance_btcusdt_perp):\n",
    "    d = json.dumps(d)\n",
    "    binance_1.update_books(d)\n",
    "for index, d in enumerate(data_binance_btcusd_perp):\n",
    "    d = json.dumps(d)\n",
    "    binance_2.update_books(d)\n",
    "for index, d in enumerate(data_okx_btcusdt_perp):\n",
    "    d = json.dumps(d)\n",
    "    okx_1.update_books(d)\n",
    "for index, d in enumerate(data_bybit_btcusdt_perp):\n",
    "    d = json.dumps(d)\n",
    "    bybit.update_books(d)\n",
    "for index, d in enumerate(data_okx_btcusd_perp):\n",
    "    d = json.dumps(d)\n",
    "    okx_2.update_books(d)"
   ]
  },
  {
   "cell_type": "code",
   "execution_count": 10,
   "metadata": {},
   "outputs": [],
   "source": [
    "axis_perp = {\n",
    "    \"binanceusdt\" : bbt,\n",
    "    \"binanceusd\" : bbf,\n",
    "    \"okxusdt\" : obt,\n",
    "    \"okxusd\" : obt,\n",
    "    \"bybitusdt\" : bybt,\n",
    "}\n",
    "perpAggDepth = booksmerger(\"btcusd\", \"spot\", axis_perp)\n",
    "perpAggDepth.merge_snapshots()"
   ]
  },
  {
   "cell_type": "code",
   "execution_count": 4,
   "metadata": {},
   "outputs": [],
   "source": [
    "axis_spot = {\n",
    "    \"binanceusdt\" : bbt,\n",
    "    \"binancefdusd\" : bbf,\n",
    "    \"okxusdt\" : obt,\n",
    "    \"bybitusdt\" : bybt,\n",
    "    \"coinbaseusd\" : cu,\n",
    "}\n",
    "\n",
    "spotAggDepth = booksmerger(\"btcusd\", \"spot\", axis_spot)\n",
    "spotAggDepth.merge_snapshots()"
   ]
  },
  {
   "cell_type": "markdown",
   "metadata": {},
   "source": [
    "# Trades Aggrgate"
   ]
  },
  {
   "cell_type": "code",
   "execution_count": 3,
   "metadata": {},
   "outputs": [],
   "source": [
    "from flow import tradesflow\n",
    "from synthesis import tradesmerger"
   ]
  },
  {
   "cell_type": "code",
   "execution_count": 4,
   "metadata": {},
   "outputs": [],
   "source": [
    "data_binance_btcusdt_trades = json.load(open(\"data/binance_btcusdt_spot_trades.json\"))\n",
    "data_binance_btcfdusd_trades = json.load(open(\"data/binance_btcfdusd_spot_trades.json\"))\n",
    "data_okx_btcusdt_trades = json.load(open(\"data/okx_btcusdt_spot_trades.json\"))\n",
    "data_bybit_btcusdt_trades = json.load(open(\"data/bybit_btcusdt_spot_trades.json\"))\n",
    "data_coinbase_btcusd_trades = json.load(open(\"data/coinbase_btcusd_spot_trades.json\"))\n",
    "\n",
    "b1ts  = tradesflow('binance', 'btc_usdt', 'spot', 20, lookups.binance_trades_lookup)\n",
    "b2ts  = tradesflow('binance', 'btc_fdusd', 'spot', 20, lookups.binance_trades_lookup)\n",
    "ots  = tradesflow('okx', 'btc_usdt', 'spot', 20, lookups.okx_trades_lookup)\n",
    "bbts  = tradesflow('bybit', 'btc_usdt', 'spot', 20, lookups.bybit_trades_lookup)\n",
    "cts  = tradesflow('coinbase', 'btc_usd', 'spot', 20, lookups.coinbase_trades_lookup)\n",
    "\n",
    "for index, d in enumerate(data_binance_btcusdt_trades):\n",
    "    d = json.dumps(d)\n",
    "    b1ts.input_trades(d)\n",
    "for index, d in enumerate(data_binance_btcfdusd_trades):\n",
    "    d = json.dumps(d)\n",
    "    b2ts.input_trades(d)\n",
    "for index, d in enumerate(data_okx_btcusdt_trades):\n",
    "    d = json.dumps(d)\n",
    "    ots.input_trades(d)\n",
    "for index, d in enumerate(data_bybit_btcusdt_trades):\n",
    "    d = json.dumps(d)\n",
    "    bbts.input_trades(d)\n",
    "for index, d in enumerate(data_coinbase_btcusd_trades):\n",
    "    d = json.dumps(d)\n",
    "    cts.input_trades(d)"
   ]
  },
  {
   "cell_type": "code",
   "execution_count": 5,
   "metadata": {},
   "outputs": [
    {
     "ename": "KeyError",
     "evalue": "\"['price'] not in index\"",
     "output_type": "error",
     "traceback": [
      "\u001b[1;31m---------------------------------------------------------------------------\u001b[0m",
      "\u001b[1;31mKeyError\u001b[0m                                  Traceback (most recent call last)",
      "Cell \u001b[1;32mIn[5], line 9\u001b[0m\n\u001b[0;32m      1\u001b[0m axis_spot_trades \u001b[38;5;241m=\u001b[39m {\n\u001b[0;32m      2\u001b[0m     \u001b[38;5;124m\"\u001b[39m\u001b[38;5;124mbinanceusdt\u001b[39m\u001b[38;5;124m\"\u001b[39m : b1ts,\n\u001b[0;32m      3\u001b[0m     \u001b[38;5;124m\"\u001b[39m\u001b[38;5;124mbinancefdusd\u001b[39m\u001b[38;5;124m\"\u001b[39m : b2ts,\n\u001b[1;32m   (...)\u001b[0m\n\u001b[0;32m      6\u001b[0m     \u001b[38;5;124m\"\u001b[39m\u001b[38;5;124mcoinbaseusd\u001b[39m\u001b[38;5;124m\"\u001b[39m : cts,\n\u001b[0;32m      7\u001b[0m }\n\u001b[0;32m      8\u001b[0m spotAggTrades \u001b[38;5;241m=\u001b[39m tradesmerger(\u001b[38;5;124m\"\u001b[39m\u001b[38;5;124mbtcusd\u001b[39m\u001b[38;5;124m\"\u001b[39m, \u001b[38;5;124m\"\u001b[39m\u001b[38;5;124mspot\u001b[39m\u001b[38;5;124m\"\u001b[39m, axis_spot_trades)\n\u001b[1;32m----> 9\u001b[0m \u001b[43mspotAggTrades\u001b[49m\u001b[38;5;241;43m.\u001b[39;49m\u001b[43mmerge_snapshots\u001b[49m\u001b[43m(\u001b[49m\u001b[43m)\u001b[49m\n",
      "File \u001b[1;32mc:\\coding/TradeStreamEngine/StreamEngine\\synthesis.py:72\u001b[0m, in \u001b[0;36mtradesmerger.merge_snapshots\u001b[1;34m(self)\u001b[0m\n\u001b[0;32m     69\u001b[0m snapshots_sells \u001b[38;5;241m=\u001b[39m [\u001b[38;5;28mself\u001b[39m\u001b[38;5;241m.\u001b[39maxis[ex]\u001b[38;5;241m.\u001b[39msnapshot_sells \u001b[38;5;28;01mfor\u001b[39;00m ex \u001b[38;5;129;01min\u001b[39;00m \u001b[38;5;28mself\u001b[39m\u001b[38;5;241m.\u001b[39maxis\u001b[38;5;241m.\u001b[39mkeys()]\n\u001b[0;32m     70\u001b[0m snapshots_total \u001b[38;5;241m=\u001b[39m [\u001b[38;5;28mself\u001b[39m\u001b[38;5;241m.\u001b[39maxis[ex]\u001b[38;5;241m.\u001b[39msnapshot_total \u001b[38;5;28;01mfor\u001b[39;00m ex \u001b[38;5;129;01min\u001b[39;00m \u001b[38;5;28mself\u001b[39m\u001b[38;5;241m.\u001b[39maxis\u001b[38;5;241m.\u001b[39mkeys()]\n\u001b[1;32m---> 72\u001b[0m \u001b[38;5;28;43mself\u001b[39;49m\u001b[38;5;241;43m.\u001b[39;49m\u001b[43mmerge_snapshots_helper\u001b[49m\u001b[43m(\u001b[49m\u001b[43msnapshots_buys\u001b[49m\u001b[43m,\u001b[49m\u001b[43m \u001b[49m\u001b[38;5;124;43m\"\u001b[39;49m\u001b[38;5;124;43mbuys\u001b[39;49m\u001b[38;5;124;43m\"\u001b[39;49m\u001b[43m)\u001b[49m\n\u001b[0;32m     73\u001b[0m \u001b[38;5;28mself\u001b[39m\u001b[38;5;241m.\u001b[39mmerge_snapshots_helper(snapshots_sells, \u001b[38;5;124m\"\u001b[39m\u001b[38;5;124msells\u001b[39m\u001b[38;5;124m\"\u001b[39m)\n\u001b[0;32m     74\u001b[0m \u001b[38;5;28mself\u001b[39m\u001b[38;5;241m.\u001b[39mmerge_snapshots_helper(snapshots_total, \u001b[38;5;124m\"\u001b[39m\u001b[38;5;124mtotal\u001b[39m\u001b[38;5;124m\"\u001b[39m)\n",
      "File \u001b[1;32mc:\\coding/TradeStreamEngine/StreamEngine\\synthesis.py:101\u001b[0m, in \u001b[0;36mtradesmerger.merge_snapshots_helper\u001b[1;34m(self, snapshots, side)\u001b[0m\n\u001b[0;32m     99\u001b[0m     \u001b[38;5;28mself\u001b[39m\u001b[38;5;241m.\u001b[39msnapshot_buys \u001b[38;5;241m=\u001b[39m \u001b[38;5;28msum\u001b[39m\u001b[38;5;241m.\u001b[39mcopy()\n\u001b[0;32m    100\u001b[0m     sorted_columns \u001b[38;5;241m=\u001b[39m \u001b[38;5;28msorted\u001b[39m(\u001b[38;5;28mmap\u001b[39m(\u001b[38;5;28mfloat\u001b[39m, [c \u001b[38;5;28;01mfor\u001b[39;00m c \u001b[38;5;129;01min\u001b[39;00m \u001b[38;5;28mself\u001b[39m\u001b[38;5;241m.\u001b[39msnapshot_buys\u001b[38;5;241m.\u001b[39mcolumns \u001b[38;5;28;01mif\u001b[39;00m \u001b[38;5;124m\"\u001b[39m\u001b[38;5;124mprice\u001b[39m\u001b[38;5;124m\"\u001b[39m \u001b[38;5;129;01mnot\u001b[39;00m \u001b[38;5;129;01min\u001b[39;00m c]))\n\u001b[1;32m--> 101\u001b[0m     \u001b[38;5;28mself\u001b[39m\u001b[38;5;241m.\u001b[39msnapshot_buys \u001b[38;5;241m=\u001b[39m \u001b[38;5;28;43mself\u001b[39;49m\u001b[38;5;241;43m.\u001b[39;49m\u001b[43msnapshot_buys\u001b[49m\u001b[43m[\u001b[49m\u001b[38;5;28;43mmap\u001b[39;49m\u001b[43m(\u001b[49m\u001b[38;5;28;43mstr\u001b[39;49m\u001b[43m,\u001b[49m\u001b[43m \u001b[49m\u001b[43m[\u001b[49m\u001b[38;5;124;43m\"\u001b[39;49m\u001b[38;5;124;43mprice\u001b[39;49m\u001b[38;5;124;43m\"\u001b[39;49m\u001b[43m]\u001b[49m\u001b[43m \u001b[49m\u001b[38;5;241;43m+\u001b[39;49m\u001b[43m \u001b[49m\u001b[43msorted_columns\u001b[49m\u001b[43m)\u001b[49m\u001b[43m]\u001b[49m\n\u001b[0;32m    102\u001b[0m \u001b[38;5;28;01mif\u001b[39;00m side \u001b[38;5;241m==\u001b[39m \u001b[38;5;124m\"\u001b[39m\u001b[38;5;124msells\u001b[39m\u001b[38;5;124m\"\u001b[39m:\n\u001b[0;32m    103\u001b[0m     \u001b[38;5;28mself\u001b[39m\u001b[38;5;241m.\u001b[39msnapshot_sells \u001b[38;5;241m=\u001b[39m \u001b[38;5;28msum\u001b[39m\u001b[38;5;241m.\u001b[39mcopy()\n",
      "File \u001b[1;32m~\\AppData\\Local\\Programs\\Python\\Python310\\lib\\site-packages\\pandas\\core\\frame.py:3899\u001b[0m, in \u001b[0;36mDataFrame.__getitem__\u001b[1;34m(self, key)\u001b[0m\n\u001b[0;32m   3897\u001b[0m     \u001b[38;5;28;01mif\u001b[39;00m is_iterator(key):\n\u001b[0;32m   3898\u001b[0m         key \u001b[38;5;241m=\u001b[39m \u001b[38;5;28mlist\u001b[39m(key)\n\u001b[1;32m-> 3899\u001b[0m     indexer \u001b[38;5;241m=\u001b[39m \u001b[38;5;28;43mself\u001b[39;49m\u001b[38;5;241;43m.\u001b[39;49m\u001b[43mcolumns\u001b[49m\u001b[38;5;241;43m.\u001b[39;49m\u001b[43m_get_indexer_strict\u001b[49m\u001b[43m(\u001b[49m\u001b[43mkey\u001b[49m\u001b[43m,\u001b[49m\u001b[43m \u001b[49m\u001b[38;5;124;43m\"\u001b[39;49m\u001b[38;5;124;43mcolumns\u001b[39;49m\u001b[38;5;124;43m\"\u001b[39;49m\u001b[43m)\u001b[49m[\u001b[38;5;241m1\u001b[39m]\n\u001b[0;32m   3901\u001b[0m \u001b[38;5;66;03m# take() does not accept boolean indexers\u001b[39;00m\n\u001b[0;32m   3902\u001b[0m \u001b[38;5;28;01mif\u001b[39;00m \u001b[38;5;28mgetattr\u001b[39m(indexer, \u001b[38;5;124m\"\u001b[39m\u001b[38;5;124mdtype\u001b[39m\u001b[38;5;124m\"\u001b[39m, \u001b[38;5;28;01mNone\u001b[39;00m) \u001b[38;5;241m==\u001b[39m \u001b[38;5;28mbool\u001b[39m:\n",
      "File \u001b[1;32m~\\AppData\\Local\\Programs\\Python\\Python310\\lib\\site-packages\\pandas\\core\\indexes\\base.py:6115\u001b[0m, in \u001b[0;36mIndex._get_indexer_strict\u001b[1;34m(self, key, axis_name)\u001b[0m\n\u001b[0;32m   6112\u001b[0m \u001b[38;5;28;01melse\u001b[39;00m:\n\u001b[0;32m   6113\u001b[0m     keyarr, indexer, new_indexer \u001b[38;5;241m=\u001b[39m \u001b[38;5;28mself\u001b[39m\u001b[38;5;241m.\u001b[39m_reindex_non_unique(keyarr)\n\u001b[1;32m-> 6115\u001b[0m \u001b[38;5;28;43mself\u001b[39;49m\u001b[38;5;241;43m.\u001b[39;49m\u001b[43m_raise_if_missing\u001b[49m\u001b[43m(\u001b[49m\u001b[43mkeyarr\u001b[49m\u001b[43m,\u001b[49m\u001b[43m \u001b[49m\u001b[43mindexer\u001b[49m\u001b[43m,\u001b[49m\u001b[43m \u001b[49m\u001b[43maxis_name\u001b[49m\u001b[43m)\u001b[49m\n\u001b[0;32m   6117\u001b[0m keyarr \u001b[38;5;241m=\u001b[39m \u001b[38;5;28mself\u001b[39m\u001b[38;5;241m.\u001b[39mtake(indexer)\n\u001b[0;32m   6118\u001b[0m \u001b[38;5;28;01mif\u001b[39;00m \u001b[38;5;28misinstance\u001b[39m(key, Index):\n\u001b[0;32m   6119\u001b[0m     \u001b[38;5;66;03m# GH 42790 - Preserve name from an Index\u001b[39;00m\n",
      "File \u001b[1;32m~\\AppData\\Local\\Programs\\Python\\Python310\\lib\\site-packages\\pandas\\core\\indexes\\base.py:6179\u001b[0m, in \u001b[0;36mIndex._raise_if_missing\u001b[1;34m(self, key, indexer, axis_name)\u001b[0m\n\u001b[0;32m   6176\u001b[0m     \u001b[38;5;28;01mraise\u001b[39;00m \u001b[38;5;167;01mKeyError\u001b[39;00m(\u001b[38;5;124mf\u001b[39m\u001b[38;5;124m\"\u001b[39m\u001b[38;5;124mNone of [\u001b[39m\u001b[38;5;132;01m{\u001b[39;00mkey\u001b[38;5;132;01m}\u001b[39;00m\u001b[38;5;124m] are in the [\u001b[39m\u001b[38;5;132;01m{\u001b[39;00maxis_name\u001b[38;5;132;01m}\u001b[39;00m\u001b[38;5;124m]\u001b[39m\u001b[38;5;124m\"\u001b[39m)\n\u001b[0;32m   6178\u001b[0m not_found \u001b[38;5;241m=\u001b[39m \u001b[38;5;28mlist\u001b[39m(ensure_index(key)[missing_mask\u001b[38;5;241m.\u001b[39mnonzero()[\u001b[38;5;241m0\u001b[39m]]\u001b[38;5;241m.\u001b[39munique())\n\u001b[1;32m-> 6179\u001b[0m \u001b[38;5;28;01mraise\u001b[39;00m \u001b[38;5;167;01mKeyError\u001b[39;00m(\u001b[38;5;124mf\u001b[39m\u001b[38;5;124m\"\u001b[39m\u001b[38;5;132;01m{\u001b[39;00mnot_found\u001b[38;5;132;01m}\u001b[39;00m\u001b[38;5;124m not in index\u001b[39m\u001b[38;5;124m\"\u001b[39m)\n",
      "\u001b[1;31mKeyError\u001b[0m: \"['price'] not in index\""
     ]
    }
   ],
   "source": [
    "axis_spot_trades = {\n",
    "    \"binanceusdt\" : b1ts,\n",
    "    \"binancefdusd\" : b2ts,\n",
    "    \"okxusdt\" : ots,\n",
    "    \"bybitusdt\" : bbts,\n",
    "    \"coinbaseusd\" : cts,\n",
    "}\n",
    "spotAggTrades = tradesmerger(\"btcusd\", \"spot\", axis_spot_trades)\n",
    "spotAggTrades.merge_snapshots()"
   ]
  },
  {
   "cell_type": "code",
   "execution_count": null,
   "metadata": {},
   "outputs": [],
   "source": []
  }
 ],
 "metadata": {
  "kernelspec": {
   "display_name": "Python 3 (ipykernel)",
   "language": "python",
   "name": "python3"
  },
  "language_info": {
   "codemirror_mode": {
    "name": "ipython",
    "version": 3
   },
   "file_extension": ".py",
   "mimetype": "text/x-python",
   "name": "python",
   "nbconvert_exporter": "python",
   "pygments_lexer": "ipython3",
   "version": "3.10.9"
  }
 },
 "nbformat": 4,
 "nbformat_minor": 2
}
