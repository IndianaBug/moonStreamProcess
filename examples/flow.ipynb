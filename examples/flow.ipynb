{
 "cells": [
  {
   "cell_type": "code",
   "execution_count": 1,
   "metadata": {},
   "outputs": [],
   "source": [
    "import os\n",
    "import sys\n",
    "import time\n",
    "import json\n",
    "from os.path import abspath, dirname\n",
    "import pandas as pd\n",
    "import numpy as np\n",
    "import datetime\n",
    "\n",
    "# current_dir = abspath(dirname(__file__))\n",
    "current_dir = abspath(dirname(\"\"))\n",
    "project_path = abspath(dirname(dirname(current_dir)))\n",
    "sys.path.append(project_path + \"/TradeStreamEngine/StreamEngine\")\n",
    "\n",
    "import lookups"
   ]
  },
  {
   "cell_type": "code",
   "execution_count": 2,
   "metadata": {},
   "outputs": [],
   "source": [
    "from flow import oiFundingflow\n"
   ]
  },
  {
   "cell_type": "code",
   "execution_count": 3,
   "metadata": {},
   "outputs": [
    {
     "ename": "ValueError",
     "evalue": "could not convert string to float: 'fundingRate'",
     "output_type": "error",
     "traceback": [
      "\u001b[1;31m---------------------------------------------------------------------------\u001b[0m",
      "\u001b[1;31mValueError\u001b[0m                                Traceback (most recent call last)",
      "File \u001b[1;32m<timed exec>:10\u001b[0m\n",
      "File \u001b[1;32mc:\\coding/TradeStreamEngine/StreamEngine\\flow.py:264\u001b[0m, in \u001b[0;36moiFundingflow.input_oi\u001b[1;34m(self, oidata)\u001b[0m\n\u001b[0;32m    262\u001b[0m \u001b[38;5;28;01mdef\u001b[39;00m \u001b[38;5;21minput_oi\u001b[39m(\u001b[38;5;28mself\u001b[39m, oidata):\n\u001b[0;32m    263\u001b[0m     oi, price, timestamp \u001b[38;5;241m=\u001b[39m \u001b[38;5;28mself\u001b[39m\u001b[38;5;241m.\u001b[39mlookup_oi(oidata)\n\u001b[1;32m--> 264\u001b[0m     \u001b[38;5;28;43mself\u001b[39;49m\u001b[38;5;241;43m.\u001b[39;49m\u001b[43mdfs_input\u001b[49m\u001b[43m(\u001b[49m\u001b[43moi\u001b[49m\u001b[43m,\u001b[49m\u001b[43m \u001b[49m\u001b[43mprice\u001b[49m\u001b[43m,\u001b[49m\u001b[43m \u001b[49m\u001b[43mtimestamp\u001b[49m\u001b[43m)\u001b[49m\n",
      "File \u001b[1;32mc:\\coding/TradeStreamEngine/StreamEngine\\flow.py:289\u001b[0m, in \u001b[0;36moiFundingflow.dfs_input\u001b[1;34m(self, oi, price, timestamp)\u001b[0m\n\u001b[0;32m    287\u001b[0m level \u001b[38;5;241m=\u001b[39m booksflow_find_level(price, \u001b[38;5;28mself\u001b[39m\u001b[38;5;241m.\u001b[39mlevel_size)\n\u001b[0;32m    288\u001b[0m current_columns \u001b[38;5;241m=\u001b[39m (\u001b[38;5;28mmap\u001b[39m(\u001b[38;5;28mfloat\u001b[39m, [x \u001b[38;5;28;01mfor\u001b[39;00m x \u001b[38;5;129;01min\u001b[39;00m \u001b[38;5;28mself\u001b[39m\u001b[38;5;241m.\u001b[39mraw_data\u001b[38;5;241m.\u001b[39mcolumns\u001b[38;5;241m.\u001b[39mtolist() \u001b[38;5;28;01mif\u001b[39;00m x \u001b[38;5;241m!=\u001b[39m \u001b[38;5;124m\"\u001b[39m\u001b[38;5;124mprice\u001b[39m\u001b[38;5;124m\"\u001b[39m]))\n\u001b[1;32m--> 289\u001b[0m \u001b[38;5;28;01mif\u001b[39;00m \u001b[43mlevel\u001b[49m\u001b[43m \u001b[49m\u001b[38;5;129;43;01mnot\u001b[39;49;00m\u001b[43m \u001b[49m\u001b[38;5;129;43;01min\u001b[39;49;00m\u001b[43m \u001b[49m\u001b[43mcurrent_columns\u001b[49m:\n\u001b[0;32m    290\u001b[0m     \u001b[38;5;28mself\u001b[39m\u001b[38;5;241m.\u001b[39mraw_data[\u001b[38;5;28mstr\u001b[39m(level)] \u001b[38;5;241m=\u001b[39m \u001b[38;5;241m0\u001b[39m\n\u001b[0;32m    291\u001b[0m     \u001b[38;5;28mself\u001b[39m\u001b[38;5;241m.\u001b[39mraw_data[\u001b[38;5;28mstr\u001b[39m(level)] \u001b[38;5;241m=\u001b[39m \u001b[38;5;28mself\u001b[39m\u001b[38;5;241m.\u001b[39mraw_data[\u001b[38;5;28mstr\u001b[39m(level)]\u001b[38;5;241m.\u001b[39mastype(\u001b[38;5;124m\"\u001b[39m\u001b[38;5;124mfloat64\u001b[39m\u001b[38;5;124m\"\u001b[39m)\n",
      "\u001b[1;31mValueError\u001b[0m: could not convert string to float: 'fundingRate'"
     ]
    }
   ],
   "source": [
    "%%time\n",
    "\n",
    "data_oi = json.load(open(\"data/okx_btcusdt_perpetual_OI.json\"))\n",
    "data_fd = json.load(open(\"data/okx_btcusdt_perpetual_fundingRate.json\"))\n",
    "\n",
    "binance_trades = oiFundingflow(\"binance\", \"btcusdt\", \"perpetual\", 20, lookups.okx_OI_lookup, lookups.okx_funding_lookup)\n",
    "for index, d in enumerate(data_fd):\n",
    "    d = json.dumps(d)\n",
    "    binance_trades.input_funding(d)\n",
    "for index, d in enumerate(data_oi):\n",
    "    d = json.dumps(d)\n",
    "    binance_trades.input_oi(d)"
   ]
  },
  {
   "cell_type": "code",
   "execution_count": 3,
   "metadata": {},
   "outputs": [],
   "source": [
    "from flow import tradesflow"
   ]
  },
  {
   "cell_type": "code",
   "execution_count": 6,
   "metadata": {},
   "outputs": [
    {
     "name": "stdout",
     "output_type": "stream",
     "text": [
      "CPU times: total: 219 ms\n",
      "Wall time: 241 ms\n"
     ]
    }
   ],
   "source": [
    "%%time\n",
    "\n",
    "data = json.load(open(\"data/okx_btcusdt_perpetual_trades.json\"))\n",
    "\n",
    "binance_trades = tradesflow(\"binance\", \"btcusdt\", \"perpetual\", 20, lookups.okx_trades_lookup)\n",
    "for index, d in enumerate(data):\n",
    "    d = json.dumps(d)\n",
    "    binance_trades.input_trades(d)\n"
   ]
  },
  {
   "cell_type": "code",
   "execution_count": 5,
   "metadata": {},
   "outputs": [],
   "source": [
    "from flow import booksflow"
   ]
  },
  {
   "cell_type": "code",
   "execution_count": 22,
   "metadata": {},
   "outputs": [
    {
     "name": "stdout",
     "output_type": "stream",
     "text": [
      "Elapsed :  1.4279987812042236\n",
      "CPU times: total: 1.34 s\n",
      "Wall time: 1.44 s\n"
     ]
    }
   ],
   "source": [
    "%%time\n",
    "\n",
    "data = json.load(open(\"data/binance_btcusdt_spot_depth.json\"))\n",
    "\n",
    "booksflow_binance  = booksflow('binance', 'btc_usd', 'perpetural', 20, lookups.binance_depth_lookup)\n",
    "\n",
    "start = time.time()\n",
    "\n",
    "for index, d in enumerate(data):\n",
    "    d = json.dumps(d)\n",
    "    booksflow_binance.update_books(d)\n",
    "\n",
    "print(\"Elapsed : \", time.time()-start)"
   ]
  },
  {
   "cell_type": "code",
   "execution_count": null,
   "metadata": {},
   "outputs": [],
   "source": [
    "from StreamEngine.flow import oiflow"
   ]
  },
  {
   "cell_type": "code",
   "execution_count": null,
   "metadata": {},
   "outputs": [],
   "source": [
    "trades = json.load(open(\"/content/SatoshiVault/examples/data/binance_perp/trades.json\"))\n",
    "\n",
    "binance_btcusdtperp_trades = oiflow(\"binance\", \"btcusdt\", \"perpetual\", 20)\n",
    "start = time.time()\n",
    "for e in trades:\n",
    "    binance_btcusdtperp_trades.dfs_input_oi(e, 'timestamp', 'p', 'q')\n",
    "print(\"elapsed_time : \", time.time() - start)\n",
    "binance_btcusdtperp_trades.snapshot"
   ]
  },
  {
   "cell_type": "code",
   "execution_count": null,
   "metadata": {},
   "outputs": [],
   "source": [
    "from StreamEngine.flow import liquidationsflow"
   ]
  },
  {
   "cell_type": "code",
   "execution_count": null,
   "metadata": {},
   "outputs": [],
   "source": [
    "trades = json.load(open(\"/content/SatoshiVault/examples/data/binance_perp/trades.json\"))\n",
    "\n",
    "binance_btcusdtperp_trades = liquidationsflow(\"binance\", \"btcusdt\", \"perpetual\", 20)\n",
    "start = time.time()\n",
    "for e in trades:\n",
    "    binance_btcusdtperp_trades.dfs_input_liquidations(e, 'timestamp', 'p', 'q')\n",
    "print(\"elapsed_time : \", time.time() - start)\n"
   ]
  }
 ],
 "metadata": {
  "kernelspec": {
   "display_name": "Python 3 (ipykernel)",
   "language": "python",
   "name": "python3"
  },
  "language_info": {
   "codemirror_mode": {
    "name": "ipython",
    "version": 3
   },
   "file_extension": ".py",
   "mimetype": "text/x-python",
   "name": "python",
   "nbconvert_exporter": "python",
   "pygments_lexer": "ipython3",
   "version": "3.10.9"
  }
 },
 "nbformat": 4,
 "nbformat_minor": 2
}
