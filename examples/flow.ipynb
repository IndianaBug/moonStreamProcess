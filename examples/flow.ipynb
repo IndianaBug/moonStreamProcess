{
 "cells": [
  {
   "cell_type": "code",
   "execution_count": 5,
   "metadata": {},
   "outputs": [],
   "source": [
    "import os\n",
    "import sys\n",
    "sys.path.append(os.path.join(sys.path[0][:sys.path[0].find('TradeStreamEngine') + len('TradeStreamEngine')], \"StreamEngine\"))\n"
   ]
  },
  {
   "cell_type": "code",
   "execution_count": 7,
   "metadata": {},
   "outputs": [],
   "source": [
    "import time\n",
    "import json\n",
    "from StreamEngine.flow import booksflow"
   ]
  },
  {
   "cell_type": "code",
   "execution_count": null,
   "metadata": {},
   "outputs": [],
   "source": [
    "books = json.load(open(\"data/binance_perp/books.json\"))\n",
    "books_updates = json.load(open(\"data/binance_perp/bupdates.json\"))\n",
    "btc_price = (float(books['bids'][0][0]) + float(books['asks'][0][0])) / 2\n",
    "\n",
    "booksflow_binance_btc_perp  = booksflow('binance', 'btc_usdt', 'perpetural', 20)\n",
    "start = time.time()\n",
    "booksflow_binance_btc_perp.update_books(btc_price, books, 'bids', 'asks', 'timestamp')\n",
    "for b in books_updates:\n",
    "    booksflow_binance_btc_perp.update_books(btc_price, b, 'b', 'a', 'timestamp')\n",
    "print(\"Elapsed : \", time.time()-start)"
   ]
  }
 ],
 "metadata": {
  "kernelspec": {
   "display_name": "Python 3",
   "language": "python",
   "name": "python3"
  },
  "language_info": {
   "codemirror_mode": {
    "name": "ipython",
    "version": 3
   },
   "file_extension": ".py",
   "mimetype": "text/x-python",
   "name": "python",
   "nbconvert_exporter": "python",
   "pygments_lexer": "ipython3",
   "version": "3.10.13"
  }
 },
 "nbformat": 4,
 "nbformat_minor": 2
}
