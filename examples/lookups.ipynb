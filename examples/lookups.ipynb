{
 "cells": [
  {
   "cell_type": "code",
   "execution_count": 1,
   "metadata": {},
   "outputs": [],
   "source": [
    "import os\n",
    "import sys\n",
    "import time\n",
    "import json\n",
    "from os.path import abspath, dirname\n",
    "from typing import Tuple\n",
    "import datetime\n",
    "import numpy as np\n",
    "# current_dir = abspath(dirname(__file__))\n",
    "current_dir = abspath(dirname(\"\"))\n",
    "project_path = abspath(dirname(dirname(current_dir)))\n",
    "sys.path.append(project_path + \"/TradeStreamEngine/StreamEngine\")\n",
    "\n",
    "import lookups\n"
   ]
  },
  {
   "cell_type": "code",
   "execution_count": 24,
   "metadata": {},
   "outputs": [
    {
     "data": {
      "text/plain": [
       "('Bitcoin Price Shoots to $43,500 as BTC ETF Inflows Outpace Net Outflows',\n",
       " '2024-01-30 09:39:49')"
      ]
     },
     "execution_count": 24,
     "metadata": {},
     "output_type": "execute_result"
    }
   ],
   "source": [
    "data = json.dumps(json.load(open(\"data\\ALL_BTC_USDT_ETH_news_aggregator.json\"))[-2])\n",
    "\n",
    "lookups.lookup_news(data)"
   ]
  },
  {
   "cell_type": "code",
   "execution_count": null,
   "metadata": {},
   "outputs": [],
   "source": [
    "# binance liquidations ok\n",
    "# "
   ]
  },
  {
   "cell_type": "code",
   "execution_count": null,
   "metadata": {},
   "outputs": [],
   "source": []
  },
  {
   "cell_type": "code",
   "execution_count": null,
   "metadata": {},
   "outputs": [],
   "source": []
  },
  {
   "cell_type": "code",
   "execution_count": null,
   "metadata": {},
   "outputs": [],
   "source": []
  }
 ],
 "metadata": {
  "kernelspec": {
   "display_name": "Python 3 (ipykernel)",
   "language": "python",
   "name": "python3"
  },
  "language_info": {
   "codemirror_mode": {
    "name": "ipython",
    "version": 3
   },
   "file_extension": ".py",
   "mimetype": "text/x-python",
   "name": "python",
   "nbconvert_exporter": "python",
   "pygments_lexer": "ipython3",
   "version": "3.10.9"
  }
 },
 "nbformat": 4,
 "nbformat_minor": 2
}
