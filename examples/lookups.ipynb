{
 "cells": [
  {
   "cell_type": "code",
   "execution_count": null,
   "metadata": {},
   "outputs": [],
   "source": []
  },
  {
   "cell_type": "code",
   "execution_count": null,
   "metadata": {},
   "outputs": [],
   "source": [
    "# Add Gateio OI API fetcher"
   ]
  },
  {
   "cell_type": "code",
   "execution_count": 345,
   "metadata": {},
   "outputs": [
    {
     "data": {
      "text/plain": [
       "'{\"exchange\": \"bybit\", \"instrument\": \"btcusd\", \"insType\": \"perpetual\", \"obj\": \"trades\", \"btc_price\": 63941.68, \"timestamp\": 1709684500.3767145, \"data\": {\"topic\": \"publicTrade.BTCPERP\", \"type\": \"snapshot\", \"ts\": 1709684500014, \"data\": [{\"T\": 1709684500012, \"s\": \"BTCPERP\", \"S\": \"Sell\", \"v\": \"0.010\", \"p\": \"64068.00\", \"L\": \"MinusTick\", \"i\": \"b7116c70-be65-506a-b8e7-b4cf01c8f426\", \"BT\": false}]}}'"
      ]
     },
     "execution_count": 345,
     "metadata": {},
     "output_type": "execute_result"
    }
   ],
   "source": [
    "import json\n",
    "from typing import Tuple\n",
    "import datetime\n",
    "import numpy as np\n",
    "\n",
    "data = json.load(open(\"data/bybit_btcusd_perpetual_trades.json\"))\n",
    "\n",
    "data = json.dumps(data[2])\n",
    "\n",
    "data"
   ]
  },
  {
   "cell_type": "markdown",
   "metadata": {},
   "source": []
  },
  {
   "cell_type": "markdown",
   "metadata": {},
   "source": []
  },
  {
   "cell_type": "code",
   "execution_count": 347,
   "metadata": {},
   "outputs": [
    {
     "name": "stdout",
     "output_type": "stream",
     "text": [
      "[['sell', 64068.0, 0.01, '2024-03-06 00:21:40']]\n"
     ]
    }
   ],
   "source": [
    "def bybit_trades_lookup(response : json) -> list:\n",
    "    \"\"\"\n",
    "        [[side, price, size, timestamp]]\n",
    "    \"\"\"\n",
    "    response = json.loads(response)\n",
    "    price = response[\"btc_price\"]\n",
    "    try:\n",
    "        l = []\n",
    "        for trade in response.get(\"data\").get(\"data\"):\n",
    "            side = trade.get(\"S\").lower()\n",
    "            price = float(trade.get(\"p\"))\n",
    "            size = float(trade.get(\"v\"))\n",
    "            timestamp = trade.get(\"T\")\n",
    "            timestamp = datetime.datetime.fromtimestamp(timestamp/ 10**3).strftime('%Y-%m-%d %H:%M:%S')\n",
    "            l.append([side, price, size, timestamp])\n",
    "        return l\n",
    "    except:\n",
    "        timestamp = datetime.datetime.fromtimestamp(response[\"timestamp\"]).strftime('%Y-%m-%d %H:%M:%S')\n",
    "        return None\n",
    "a = bybit_trades_lookup(data)\n",
    "\n",
    "print(a)"
   ]
  },
  {
   "cell_type": "code",
   "execution_count": 261,
   "metadata": {},
   "outputs": [
    {
     "name": "stdout",
     "output_type": "stream",
     "text": [
      "None\n"
     ]
    }
   ],
   "source": []
  },
  {
   "cell_type": "code",
   "execution_count": null,
   "metadata": {},
   "outputs": [],
   "source": []
  }
 ],
 "metadata": {
  "kernelspec": {
   "display_name": "apistreams",
   "language": "python",
   "name": "apistreams"
  },
  "language_info": {
   "codemirror_mode": {
    "name": "ipython",
    "version": 3
   },
   "file_extension": ".py",
   "mimetype": "text/x-python",
   "name": "python",
   "nbconvert_exporter": "python",
   "pygments_lexer": "ipython3",
   "version": "3.10.9"
  }
 },
 "nbformat": 4,
 "nbformat_minor": 2
}
