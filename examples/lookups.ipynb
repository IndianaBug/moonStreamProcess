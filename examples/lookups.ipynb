{
 "cells": [
  {
   "cell_type": "code",
   "execution_count": 1,
   "metadata": {},
   "outputs": [],
   "source": [
    "import os\n",
    "import sys\n",
    "import time\n",
    "import json\n",
    "from os.path import abspath, dirname\n",
    "from typing import Tuple\n",
    "import datetime\n",
    "import numpy as np\n",
    "# current_dir = abspath(dirname(__file__))\n",
    "current_dir = abspath(dirname(\"\"))\n",
    "project_path = abspath(dirname(dirname(current_dir)))\n",
    "sys.path.append(project_path + \"/TradeStreamEngine/StreamEngine\")\n",
    "\n",
    "import lookups\n"
   ]
  },
  {
   "cell_type": "code",
   "execution_count": 3,
   "metadata": {},
   "outputs": [
    {
     "ename": "AttributeError",
     "evalue": "'str' object has no attribute 'read'",
     "output_type": "error",
     "traceback": [
      "\u001b[0;31m---------------------------------------------------------------------------\u001b[0m",
      "\u001b[0;31mAttributeError\u001b[0m                            Traceback (most recent call last)",
      "\u001b[1;32m/workspace/TradeStreamEngine/examples/lookups.ipynb Cell 2\u001b[0m line \u001b[0;36m5\n\u001b[1;32m      <a href='vscode-notebook-cell://badcoderclo-tradestream-oyf5llc0mz1.ws-eu107.gitpod.io/workspace/TradeStreamEngine/examples/lookups.ipynb#W1sdnNjb2RlLXJlbW90ZQ%3D%3D?line=0'>1</a>\u001b[0m \u001b[39mfrom\u001b[39;00m \u001b[39mlookups\u001b[39;00m \u001b[39mimport\u001b[39;00m okex_liquidations_lookup\n\u001b[1;32m      <a href='vscode-notebook-cell://badcoderclo-tradestream-oyf5llc0mz1.ws-eu107.gitpod.io/workspace/TradeStreamEngine/examples/lookups.ipynb#W1sdnNjb2RlLXJlbW90ZQ%3D%3D?line=2'>3</a>\u001b[0m data \u001b[39m=\u001b[39m json\u001b[39m.\u001b[39mdumps(json\u001b[39m.\u001b[39mload(\u001b[39mopen\u001b[39m(\u001b[39m\"\u001b[39m\u001b[39m/workspace/TradeStreamEngine/examples/data/okx_btcusdt_perpetual_liquidations.json\u001b[39m\u001b[39m\"\u001b[39m))[\u001b[39m5\u001b[39m])\n\u001b[0;32m----> <a href='vscode-notebook-cell://badcoderclo-tradestream-oyf5llc0mz1.ws-eu107.gitpod.io/workspace/TradeStreamEngine/examples/lookups.ipynb#W1sdnNjb2RlLXJlbW90ZQ%3D%3D?line=4'>5</a>\u001b[0m okex_liquidations_lookup(data)\n",
      "File \u001b[0;32m/workspace/TradeStreamEngine/StreamEngine/lookups.py:403\u001b[0m, in \u001b[0;36mokex_liquidations_lookup\u001b[0;34m(response)\u001b[0m\n\u001b[1;32m    402\u001b[0m \u001b[39mdef\u001b[39;00m \u001b[39mokex_liquidations_lookup\u001b[39m(response : json) \u001b[39m-\u001b[39m\u001b[39m>\u001b[39m Tuple[\u001b[39mstr\u001b[39m, \u001b[39mfloat\u001b[39m, \u001b[39mfloat\u001b[39m, \u001b[39mstr\u001b[39m]:\n\u001b[0;32m--> 403\u001b[0m     response \u001b[39m=\u001b[39m json\u001b[39m.\u001b[39;49mload(response)\n\u001b[1;32m    404\u001b[0m     price \u001b[39m=\u001b[39m response[\u001b[39m\"\u001b[39m\u001b[39mbtc_price\u001b[39m\u001b[39m\"\u001b[39m]\n\u001b[1;32m    405\u001b[0m     \u001b[39mtry\u001b[39;00m:\n",
      "File \u001b[0;32m~/.pyenv/versions/3.12.1/lib/python3.12/json/__init__.py:293\u001b[0m, in \u001b[0;36mload\u001b[0;34m(fp, cls, object_hook, parse_float, parse_int, parse_constant, object_pairs_hook, **kw)\u001b[0m\n\u001b[1;32m    274\u001b[0m \u001b[39mdef\u001b[39;00m \u001b[39mload\u001b[39m(fp, \u001b[39m*\u001b[39m, \u001b[39mcls\u001b[39m\u001b[39m=\u001b[39m\u001b[39mNone\u001b[39;00m, object_hook\u001b[39m=\u001b[39m\u001b[39mNone\u001b[39;00m, parse_float\u001b[39m=\u001b[39m\u001b[39mNone\u001b[39;00m,\n\u001b[1;32m    275\u001b[0m         parse_int\u001b[39m=\u001b[39m\u001b[39mNone\u001b[39;00m, parse_constant\u001b[39m=\u001b[39m\u001b[39mNone\u001b[39;00m, object_pairs_hook\u001b[39m=\u001b[39m\u001b[39mNone\u001b[39;00m, \u001b[39m*\u001b[39m\u001b[39m*\u001b[39mkw):\n\u001b[1;32m    276\u001b[0m \u001b[39m    \u001b[39m\u001b[39m\"\"\"Deserialize ``fp`` (a ``.read()``-supporting file-like object containing\u001b[39;00m\n\u001b[1;32m    277\u001b[0m \u001b[39m    a JSON document) to a Python object.\u001b[39;00m\n\u001b[1;32m    278\u001b[0m \n\u001b[0;32m   (...)\u001b[0m\n\u001b[1;32m    291\u001b[0m \u001b[39m    kwarg; otherwise ``JSONDecoder`` is used.\u001b[39;00m\n\u001b[1;32m    292\u001b[0m \u001b[39m    \"\"\"\u001b[39;00m\n\u001b[0;32m--> 293\u001b[0m     \u001b[39mreturn\u001b[39;00m loads(fp\u001b[39m.\u001b[39;49mread(),\n\u001b[1;32m    294\u001b[0m         \u001b[39mcls\u001b[39m\u001b[39m=\u001b[39m\u001b[39mcls\u001b[39m, object_hook\u001b[39m=\u001b[39mobject_hook,\n\u001b[1;32m    295\u001b[0m         parse_float\u001b[39m=\u001b[39mparse_float, parse_int\u001b[39m=\u001b[39mparse_int,\n\u001b[1;32m    296\u001b[0m         parse_constant\u001b[39m=\u001b[39mparse_constant, object_pairs_hook\u001b[39m=\u001b[39mobject_pairs_hook, \u001b[39m*\u001b[39m\u001b[39m*\u001b[39mkw)\n",
      "\u001b[0;31mAttributeError\u001b[0m: 'str' object has no attribute 'read'"
     ]
    }
   ],
   "source": [
    "from lookups import okex_liquidations_lookup\n",
    "\n",
    "data = json.dumps(json.load(open(\"/workspace/TradeStreamEngine/examples/data/okx_btcusdt_perpetual_liquidations.json\"))[5])\n",
    "\n",
    "okex_liquidations_lookup(data)"
   ]
  },
  {
   "cell_type": "code",
   "execution_count": 22,
   "metadata": {},
   "outputs": [
    {
     "data": {
      "text/plain": [
       "[]"
      ]
     },
     "execution_count": 22,
     "metadata": {},
     "output_type": "execute_result"
    }
   ],
   "source": [
    "def okex_liquidations_lookup(response : json) -> Tuple[str, float, float, str]:\n",
    "    response = json.loads(response)\n",
    "    price = response[\"btc_price\"]\n",
    "    try:\n",
    "        l = []\n",
    "        for liquidation in response.get(\"data\").get(\"data\"):\n",
    "            ticker = liquidation.get(\"instFamily\")\n",
    "            if \"BTC\" in ticker:\n",
    "                for detail in liquidation.get(\"details\"):\n",
    "                    side = detail.get(\"side\")\n",
    "                    price = float(detail.get(\"bkPx\"))\n",
    "                    amount = float(detail.get(\"sz\"))\n",
    "                    timestamp = detail.get(\"ts\")\n",
    "                    timestamp = datetime.datetime.fromtimestamp(float(timestamp) / 10**3).strftime('%Y-%m-%d %H:%M:%S')\n",
    "                    l.append([side, price, amount, timestamp])\n",
    "        return l\n",
    "    except:\n",
    "        timestamp = datetime.datetime.fromtimestamp(response[\"timestamp\"]).strftime('%Y-%m-%d %H:%M:%S')\n",
    "        return []\n",
    "\n",
    "\n",
    "\n",
    "data = json.dumps(json.load(open(\"/workspace/TradeStreamEngine/examples/data/okx_btcusdt_perpetual_liquidations.json\"))[2])\n",
    "okex_liquidations_lookup(data)"
   ]
  },
  {
   "cell_type": "code",
   "execution_count": null,
   "metadata": {},
   "outputs": [],
   "source": []
  }
 ],
 "metadata": {
  "kernelspec": {
   "display_name": "Python 3",
   "language": "python",
   "name": "python3"
  },
  "language_info": {
   "codemirror_mode": {
    "name": "ipython",
    "version": 3
   },
   "file_extension": ".py",
   "mimetype": "text/x-python",
   "name": "python",
   "nbconvert_exporter": "python",
   "pygments_lexer": "ipython3",
   "version": "3.12.1"
  }
 },
 "nbformat": 4,
 "nbformat_minor": 2
}
