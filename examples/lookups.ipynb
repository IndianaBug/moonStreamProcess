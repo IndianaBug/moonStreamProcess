{
 "cells": [
  {
   "cell_type": "code",
   "execution_count": null,
   "metadata": {},
   "outputs": [],
   "source": []
  },
  {
   "cell_type": "code",
   "execution_count": null,
   "metadata": {},
   "outputs": [],
   "source": [
    "# Add Gateio OI API fetcher"
   ]
  },
  {
   "cell_type": "code",
   "execution_count": 267,
   "metadata": {},
   "outputs": [
    {
     "data": {
      "text/plain": [
       "'{\"exchange\": \"mexc\", \"instrument\": \"btcusdt\", \"insType\": \"perpetual\", \"obj\": \"trades\", \"btc_price\": 61842.56, \"timestamp\": 1709416042.702607, \"data\": {\"symbol\": \"BTC_USDT\", \"data\": {\"p\": 61908.7, \"v\": 1177, \"T\": 1, \"O\": 1, \"M\": 2, \"t\": 1709416039703}, \"channel\": \"push.deal\", \"ts\": 1709416039704}}'"
      ]
     },
     "execution_count": 267,
     "metadata": {},
     "output_type": "execute_result"
    }
   ],
   "source": [
    "import json\n",
    "from typing import Tuple\n",
    "import datetime\n",
    "import numpy as np\n",
    "\n",
    "data = json.load(open(\"data_2/mexc_btcusdt_perpetual_trades.json\"))\n",
    "\n",
    "data = json.dumps(data[3])\n",
    "\n",
    "data"
   ]
  },
  {
   "cell_type": "markdown",
   "metadata": {},
   "source": []
  },
  {
   "cell_type": "code",
   "execution_count": 271,
   "metadata": {},
   "outputs": [
    {
     "name": "stdout",
     "output_type": "stream",
     "text": [
      "[['sell', 61908.7, 0.1177, '2024-03-02 21:47:19']]\n"
     ]
    }
   ],
   "source": [
    "def mexc_trades_lookup(response : json) -> Tuple[float, float, str]:\n",
    "    \"\"\"\n",
    "\n",
    "        returns funding, price, timestamp\n",
    "    \"\"\"\n",
    "    response = json.loads(response)\n",
    "    price = float(response.get(\"btc_price\"))\n",
    "    insType = response[\"insType\"]\n",
    "    if insType == \"spot\":\n",
    "        try:\n",
    "            l = []\n",
    "            for trade in  response.get(\"data\").get(\"d\").get(\"deals\"):\n",
    "                side = \"buy\" if trade.get(\"S\") == 1 else \"sell\"\n",
    "                price = float(trade.get(\"p\"))\n",
    "                quantity = float(trade.get(\"v\")) \n",
    "                timestamp = response.get(\"data\").get(\"t\")\n",
    "                timestamp = datetime.datetime.fromtimestamp(timestamp /10 ** 3).strftime('%Y-%m-%d %H:%M:%S')\n",
    "                l.append([side, price, quantity, timestamp])\n",
    "            return l\n",
    "        except:\n",
    "            timestamp = datetime.datetime.fromtimestamp(response[\"timestamp\"]).strftime('%Y-%m-%d %H:%M:%S')\n",
    "            return None\n",
    "    if insType == \"perpetual\":\n",
    "        try:\n",
    "            l = []\n",
    "            trade = response.get(\"data\").get(\"data\")\n",
    "            side = \"buy\" if trade.get(\"S\") == 1 else \"sell\"\n",
    "            price = float(trade.get(\"p\"))\n",
    "            quantity = float(trade.get(\"v\")) * 0.0001\n",
    "            timestamp = response.get(\"data\").get(\"ts\")\n",
    "            timestamp = datetime.datetime.fromtimestamp(timestamp /10 ** 3).strftime('%Y-%m-%d %H:%M:%S')\n",
    "            l.append([side, price, quantity, timestamp])\n",
    "            return l\n",
    "        except:\n",
    "            timestamp = datetime.datetime.fromtimestamp(response[\"timestamp\"]).strftime('%Y-%m-%d %H:%M:%S')\n",
    "            return None\n",
    "\n",
    "a = mexc_trades_lookup(data)\n",
    "\n",
    "print(a)"
   ]
  },
  {
   "cell_type": "code",
   "execution_count": 261,
   "metadata": {},
   "outputs": [
    {
     "name": "stdout",
     "output_type": "stream",
     "text": [
      "None\n"
     ]
    }
   ],
   "source": []
  },
  {
   "cell_type": "code",
   "execution_count": null,
   "metadata": {},
   "outputs": [],
   "source": []
  }
 ],
 "metadata": {
  "kernelspec": {
   "display_name": "apistreams",
   "language": "python",
   "name": "apistreams"
  },
  "language_info": {
   "codemirror_mode": {
    "name": "ipython",
    "version": 3
   },
   "file_extension": ".py",
   "mimetype": "text/x-python",
   "name": "python",
   "nbconvert_exporter": "python",
   "pygments_lexer": "ipython3",
   "version": "3.10.9"
  }
 },
 "nbformat": 4,
 "nbformat_minor": 2
}
