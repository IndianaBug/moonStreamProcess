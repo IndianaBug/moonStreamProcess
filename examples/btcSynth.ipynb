{
 "cells": [
  {
   "cell_type": "code",
   "execution_count": 1,
   "metadata": {},
   "outputs": [],
   "source": [
    "import sys\n",
    "from os.path import abspath, dirname\n",
    "import numpy as np\n",
    "\n",
    "\n",
    "# current_dir = abspath(dirname(__file__))\n",
    "current_dir = abspath(dirname(\"\"))\n",
    "project_path = abspath(dirname(dirname(current_dir)))\n",
    "sys.path.append(project_path + \"/TradeStreamEngine/StreamEngine\")\n",
    "\n",
    "from synthHub import btcSynth\n",
    "import warnings\n",
    "warnings.filterwarnings(\"ignore\")\n",
    "a = btcSynth(20, np.array([0.0, 1.0, 2.0, 5.0, 10.0]) , np.array([0.0, 1.0, 2.0, 5.0, 10.0]))\n",
    "a.input_from_json(\"/workspaces/TradeStreamEngine/examples/data\")\n",
    "a.merge()\n",
    "# a.display_full_data()"
   ]
  },
  {
   "cell_type": "code",
   "execution_count": 4,
   "metadata": {},
   "outputs": [
    {
     "name": "stdout",
     "output_type": "stream",
     "text": [
      "Root Directory: /home/codespace/.python/current/bin\n"
     ]
    }
   ],
   "source": [
    "import os\n",
    "import sys\n",
    "\n",
    "# Find the root directory where packages are installed\n",
    "root_directory = os.path.dirname(sys.executable)\n",
    "\n",
    "# Print the root directory\n",
    "print(\"Root Directory:\", root_directory)"
   ]
  },
  {
   "cell_type": "code",
   "execution_count": 2,
   "metadata": {},
   "outputs": [
    {
     "data": {
      "text/plain": [
       "dict_keys(['spot_books', 'perp_books', 'timestamp', 'spot_buyVol', 'spot_sellVol', 'spot_open', 'spot_close', 'spot_low', 'spot_high', 'spot_Vola', 'spot_VolProfile', 'spot_buyVolProfile', 'spot_sellVolProfile', 'spot_numberBuyTrades', 'spot_numberSellTrades', 'spot_orderedBuyTrades', 'spot_orderedSellTrades', 'perp_buyVol', 'perp_sellVol', 'perp_open', 'perp_close', 'perp_low', 'perp_high', 'perp_Vola', 'perp_VolProfile', 'perp_buyVolProfile', 'perp_sellVolProfile', 'perp_numberBuyTrades', 'perp_numberSellTrades', 'perp_orderedBuyTrades', 'perp_orderedSellTrades', 'spot_voids', 'spot_reinforces', 'spot_totalVoids', 'spot_totalReinforces', 'spot_totalVoidsVola', 'spot_voidsDuration', 'spot_voidsDurationVola', 'spot_reinforcesDuration', 'spot_reinforcesDurationVola', 'perp_voids', 'perp_reinforces', 'perp_totalVoids', 'perp_totalReinforces', 'perp_totalVoidsVola', 'perp_voidsDuration', 'perp_voidsDurationVola', 'perp_reinforcesDuration', 'perp_reinforcesDurationVola', 'perp_weighted_funding', 'perp_total_oi', 'perp_oi_increases', 'perp_oi_increases_Vola', 'perp_oi_decreases', 'perp_oi_decreases_Vola', 'perp_oi_turnover', 'perp_oi_turnover_Vola', 'perp_oi_total', 'perp_oi_total_Vola', 'perp_oi_change', 'perp_oi_Vola', 'perp_orderedOIChanges', 'perp_OIs_per_instrument', 'perp_fundings_per_instrument', 'liquidations_perp_longsTotal', 'liquidations_perp_longs', 'liquidations_perp_shortsTotal', 'liquidations_perp_shorts', 'TTA_perp_ratio', 'TTP_perp_ratio', 'GTA_perp_ratio', 'oi_option_puts_0', 'oi_option_puts_10', 'oi_option_calls_0', 'oi_option_calls_10', 'perp_liquidations_longsTotal', 'perp_liquidations_longs', 'perp_liquidations_shortsTotal', 'perp_liquidations_shorts', 'perp_TTA_ratio', 'perp_TTP_ratio', 'perp_GTA_ratio'])"
      ]
     },
     "execution_count": 2,
     "metadata": {},
     "output_type": "execute_result"
    }
   ],
   "source": [
    "a.data.keys()"
   ]
  },
  {
   "cell_type": "code",
   "execution_count": null,
   "metadata": {},
   "outputs": [],
   "source": [
    "'spot_books', 'perp_books', 'timestamp', 'spot_buyVol', 'spot_sellVol', 'spot_open', 'spot_close', 'spot_low', \n",
    "           'spot_high', 'spot_Vola', 'spot_VolProfile', 'spot_buyVolProfile', 'spot_sellVolProfile', 'spot_numberBuyTrades', \n",
    "           'spot_numberSellTrades', 'spot_orderedBuyTrades', 'spot_orderedSellTrades', 'perp_buyVol', 'perp_sellVol', \n",
    "           'perp_open', 'perp_close', 'perp_low', 'perp_high', 'perp_Vola', 'perp_VolProfile', 'perp_buyVolProfile', \n",
    "           'perp_sellVolProfile', 'perp_numberBuyTrades', 'perp_numberSellTrades', 'perp_orderedBuyTrades',\n",
    "             'perp_orderedSellTrades', 'spot_voids', 'spot_reinforces', 'spot_totalVoids', 'spot_totalReinforces',\n",
    "              'spot_totalVoidsVola', 'spot_voidsDuration', 'spot_voidsDurationVola', 'spot_reinforcesDuration', \n",
    "              'spot_reinforcesDurationVola', 'perp_voids', 'perp_reinforces', 'perp_totalVoids', 'perp_totalReinforces',\n",
    "                'perp_totalVoidsVola', 'perp_voidsDuration', 'perp_voidsDurationVola', 'perp_reinforcesDuration', \n",
    "                'perp_reinforcesDurationVola', 'perp_weighted_funding', 'perp_total_oi', 'perp_oi_increases',\n",
    "                  'perp_oi_increases_Vola', 'perp_oi_decreases', 'perp_oi_decreases_Vola', 'perp_oi_turnover', \n",
    "                  'perp_oi_turnover_Vola', 'perp_oi_total', 'perp_oi_total_Vola', 'perp_oi_change', 'perp_oi_Vola', \n",
    "                  'perp_orderedOIChanges', 'perp_OIs_per_instrument', 'perp_fundings_per_instrument', 'liquidations_perp_longsTotal', \n",
    "                  'liquidations_perp_longs', 'liquidations_perp_shortsTotal', 'liquidations_perp_shorts', 'TTA_perp_ratio', 'TTP_perp_ratio', 'GTA_perp_ratio', \n",
    "                  'oi_option_puts_0', 'oi_option_puts_10', 'oi_option_calls_0',\n",
    "            'oi_option_calls_10', 'perp_liquidations_longsTotal', 'perp_liquidations_longs', 'perp_liquidations_shortsTotal', 'perp_liquidations_shorts', 'perp_TTA_ratio', 'perp_TTP_ratio', 'perp_GTA_ratio'"
   ]
  },
  {
   "cell_type": "code",
   "execution_count": 12,
   "metadata": {},
   "outputs": [
    {
     "data": {
      "text/plain": [
       "0.17523364485981308"
      ]
     },
     "execution_count": 12,
     "metadata": {},
     "output_type": "execute_result"
    }
   ],
   "source": [
    "a.data.get(\"liquidations_perp_longsTotal\")"
   ]
  },
  {
   "cell_type": "code",
   "execution_count": null,
   "metadata": {},
   "outputs": [],
   "source": []
  }
 ],
 "metadata": {
  "kernelspec": {
   "display_name": "Python 3",
   "language": "python",
   "name": "python3"
  },
  "language_info": {
   "codemirror_mode": {
    "name": "ipython",
    "version": 3
   },
   "file_extension": ".py",
   "mimetype": "text/x-python",
   "name": "python",
   "nbconvert_exporter": "python",
   "pygments_lexer": "ipython3",
   "version": "3.10.13"
  }
 },
 "nbformat": 4,
 "nbformat_minor": 2
}
